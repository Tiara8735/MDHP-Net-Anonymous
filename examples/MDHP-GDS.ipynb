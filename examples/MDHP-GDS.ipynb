{
 "cells": [
  {
   "cell_type": "markdown",
   "metadata": {},
   "source": [
    "# MDHP-GDS: Multi-Dimensional Hawkes Process Gradient Descent Solver\n",
    "This notebook is an example of how to use the MDHP-GDS. MDHP-GDS is a optimized solver for the problem of Multi-Dimensional Hawkes Process. Vectorized and broadcasting operations are implemented to calculate the maximum likelihood estimation of the parameters."
   ]
  },
  {
   "cell_type": "code",
   "execution_count": 1,
   "metadata": {},
   "outputs": [],
   "source": [
    "import numpy as np\n",
    "from matplotlib import pyplot as plt\n",
    "from matplotlib import font_manager\n",
    "\n",
    "# Load Times New Roman font in case it is not installed\n",
    "font_dirs = [\"../fonts/Times New Roman\"]\n",
    "font_files = font_manager.findSystemFonts(fontpaths=font_dirs)\n",
    "for font_file in font_files:\n",
    "    font_manager.fontManager.addfont(font_file)\n",
    "plt.rcParams[\"font.family\"] = \"Times New Roman\"\n",
    "plt.rcParams[\"font.size\"] = 16"
   ]
  },
  {
   "cell_type": "markdown",
   "metadata": {},
   "source": [
    "## Prepration"
   ]
  },
  {
   "cell_type": "code",
   "execution_count": 2,
   "metadata": {},
   "outputs": [],
   "source": [
    "import numpy as np\n",
    "from matplotlib import pyplot as plt\n",
    "from matplotlib import font_manager\n",
    "import os\n",
    "import os.path as osp\n",
    "\n",
    "# Load Times New Roman font in case it is not installed\n",
    "font_dirs = [\"../fonts/Times New Roman\"]\n",
    "font_files = font_manager.findSystemFonts(fontpaths=font_dirs)\n",
    "for font_file in font_files:\n",
    "    font_manager.fontManager.addfont(font_file)\n",
    "plt.rcParams[\"font.family\"] = \"Times New Roman\"\n",
    "plt.rcParams[\"font.size\"] = 16\n",
    "\n",
    "OUTPUT_DIR = osp.join(\n",
    "    osp.dirname(osp.abspath(\".\")), \"results\", \"examples\", \"mdhp-gds\"\n",
    ")\n",
    "os.makedirs(OUTPUT_DIR, exist_ok=True)"
   ]
  },
  {
   "cell_type": "markdown",
   "metadata": {},
   "source": [
    "## Section 1: Use MDHP-GDS directly"
   ]
  },
  {
   "cell_type": "code",
   "execution_count": 3,
   "metadata": {},
   "outputs": [
    {
     "name": "stdout",
     "output_type": "stream",
     "text": [
      "----------------------------------------------------\n",
      " __  __ _____  _    _ _____        _   _      _   \n",
      "|  \\/  |  __ \\| |  | |  __ \\      | \\ | |    | |  \n",
      "| \\  / | |  | | |__| | |__) |_____|  \\| | ___| |_ \n",
      "| |\\/| | |  | |  __  |  ___/______| . ` |/ _ \\ __|\n",
      "| |  | | |__| | |  | | |          | |\\  |  __/ |_ \n",
      "|_|  |_|_____/|_|  |_|_|          |_| \\_|\\___|\\__|\n",
      "----------------------------------------------------\n",
      "     @Anonymous\n",
      "----------------------------------------------------\n",
      "Elapsed time: 3.7991626262664795\n"
     ]
    },
    {
     "name": "stderr",
     "output_type": "stream",
     "text": [
      "Model has diverged at epoch 175. Average loss change 0.060172 is above zero.\n"
     ]
    },
    {
     "name": "stdout",
     "output_type": "stream",
     "text": [
      "alpha: \n",
      "[[9.9999997e-10 9.9999997e-10 3.4586124e-02 9.9999997e-10 4.5782123e-02]\n",
      " [9.9999997e-10 9.9999997e-10 3.4586124e-02 9.9999997e-10 9.9999997e-10]\n",
      " [9.9999997e-10 9.9999997e-10 3.4586124e-02 9.9999997e-10 9.9999997e-10]\n",
      " [9.9999997e-10 1.9135033e-01 3.4586124e-02 7.2647934e-03 9.9999997e-10]\n",
      " [3.9337877e-02 9.9999997e-10 3.4586124e-02 9.9999997e-10 9.9999997e-10]]\n",
      "beta: \n",
      "[[1.59645945e-01 1.88514050e-02 3.16562168e-02 1.08370714e-01\n",
      "  1.06235154e-01]\n",
      " [1.59481660e-01 1.85604226e-02 3.44760679e-02 5.29514365e-02\n",
      "  1.12462282e-01]\n",
      " [1.59565046e-01 1.88771859e-02 3.45861241e-02 1.08746856e-01\n",
      "  1.59543008e-01]\n",
      " [1.49502769e-01 1.57968789e-01 3.44487987e-02 9.99999972e-10\n",
      "  1.57403395e-01]\n",
      " [1.47127613e-01 6.67053927e-03 3.06667406e-02 1.07066162e-01\n",
      "  1.59659192e-01]]\n",
      "theta: \n",
      "[0.04132423 0.04470112 0.04462463 0.03644131 0.04334664]\n"
     ]
    },
    {
     "data": {
      "image/png": "[encoded data removed]",
      "text/plain": [
       "<Figure size 640x480 with 1 Axes>"
      ]
     },
     "metadata": {},
     "output_type": "display_data"
    }
   ],
   "source": [
    "from matplotlib import pyplot as plt\n",
    "from mdhpnet.models import MDHP_GDS\n",
    "import torch\n",
    "import time\n",
    "times = [\n",
    "    [0, 1, 2.4, 5.1,],\n",
    "    [1, 3.2, 4],\n",
    "    [],\n",
    "    [1.4, 4.1, 6.2],\n",
    "    [0.8, 2.1, 3.5, 5.2],\n",
    "]\n",
    "model = MDHP_GDS(timestamps=times)\n",
    "\n",
    "start_time = time.time()\n",
    "model = model.to(\"cuda:0\")\n",
    "# Sync cuda device\n",
    "torch.cuda.synchronize()\n",
    "print(f\"Elapsed time: {time.time() - start_time}\")\n",
    "\n",
    "loss_list = model.fit(max_epochs=1000, check_interval=25)\n",
    "alpha, beta, theta = model.get_parameters()\n",
    "print(\n",
    "    f\"alpha: \\n{alpha}\\n\"\n",
    "    f\"beta: \\n{beta}\\n\"\n",
    "    f\"theta: \\n{theta}\"\n",
    ")\n",
    "\n",
    "fig = plt.figure()\n",
    "plt.plot(loss_list)\n",
    "plt.title(\"-ln_likelihood\")\n",
    "plt.tight_layout()"
   ]
  },
  {
   "cell_type": "markdown",
   "metadata": {},
   "source": [
    "## Setction 2: Use `solve_mdhp_parameters` API"
   ]
  },
  {
   "cell_type": "code",
   "execution_count": 4,
   "metadata": {},
   "outputs": [
    {
     "name": "stderr",
     "output_type": "stream",
     "text": [
      "Model has converged at epoch 200. Average loss change -0.000021 is below tolerance 0.0001.\n"
     ]
    },
    {
     "data": {
      "text/plain": [
       "Text(0.5, 1.0, '-ln_likelihood')"
      ]
     },
     "execution_count": 4,
     "metadata": {},
     "output_type": "execute_result"
    },
    {
     "data": {
      "image/png": "[encoded data removed]",
      "text/plain": [
       "<Figure size 640x480 with 1 Axes>"
      ]
     },
     "metadata": {},
     "output_type": "display_data"
    }
   ],
   "source": [
    "from mdhpnet.utils import solve_mdhp_params\n",
    "import numpy as np\n",
    "\n",
    "time = [\n",
    "    [0, 1.4, 2.8],\n",
    "    [],\n",
    "    [3.1, 4.7, 5],\n",
    "    [2, 2.5, 6, 7, 8, 9.8],\n",
    "]\n",
    "\n",
    "alpha, beta, theta = solve_mdhp_params(\n",
    "    timestamps=time,\n",
    "    device=\"cuda\",\n",
    "    loss_list_save_path=osp.join(OUTPUT_DIR, \"loss_list.npy\"),\n",
    ")\n",
    "\n",
    "loss_list = np.load(osp.join(OUTPUT_DIR, \"loss_list.npy\"))\n",
    "\n",
    "fig = plt.figure()\n",
    "plt.plot(loss_list)\n",
    "plt.title(\"-ln_likelihood\")"
   ]
  },
  {
   "cell_type": "markdown",
   "metadata": {},
   "source": [
    "## Section 3: Example of Generating MDHP Parameters Data\n",
    "\n",
    "Note that in our experiment, the data is generated with:\n",
    "- [SOME-IP_Generator](https://github.com/Egomania/SOME-IP_Generator)\n",
    "- [SISSA](https://github.com/tiara8735/SISSA)\n",
    "\n",
    "All data should be in shape (`n_samples`, `window_size`, `n_features + 1`), where:\n",
    "- `n_samples` is the number of message windows.\n",
    "- `window_size` is the number of packets in each message window.\n",
    "- `n_features` is the number of features of each packet. \n",
    "- `1` is the unique identifier (may either be source or destination)  of the packet. The identifier is used to map the packet to the corresponding dimension of the Hawkes process.\n",
    "\n",
    "⚠️ **You may need to wait for a while for the code to finish.**"
   ]
  },
  {
   "cell_type": "code",
   "execution_count": null,
   "metadata": {},
   "outputs": [],
   "source": [
    "import numpy as np\n",
    "import os.path as osp\n",
    "import logging\n",
    "from typing import List\n",
    "\n",
    "from mdhpnet.utils import solve_mdhp_params\n",
    "\n",
    "# Where the raw data is stored\n",
    "all_raw_data_paths = (\n",
    "    # Shape: (n_samples, window_size, n_features + 1)\n",
    "    \"../data/raw/train_4_4/data.npy\",\n",
    "    # Shape: (n_samples, window_size, n_features + 1)\n",
    "    \"../data/raw/train_5_5/data.npy\",\n",
    ")\n",
    "\n",
    "# Where the processed data will be stored\n",
    "all_target_data_dirs = (\n",
    "    osp.join(OUTPUT_DIR, \"train_4_4\"),\n",
    "    osp.join(OUTPUT_DIR, \"train_5_5\"),\n",
    ")\n",
    "\n",
    "# All unique source IPs\n",
    "# You can change this to destination IPs based on your data\n",
    "# fmt: off\n",
    "unique_src_ips = [\n",
    "    10001, 10002, 10003, 10004, 10006, 10007, 10008, 10101, \n",
    "    10102, 10103, 10104, 10105, 10106, 10107, 10108, 10109,\n",
    "]\n",
    "# fmt: on\n",
    "# Dim of MDHP is the number of unique source IPs\n",
    "mdhp_dim = len(unique_src_ips)\n",
    "\n",
    "# Create a mapping from IP to index\n",
    "ip_to_index = {ip: i for i, ip in enumerate(unique_src_ips)}\n",
    "\n",
    "\n",
    "def get_timestamps(time: np.ndarray, ids: np.ndarray) -> List[List[float]]:\n",
    "    \"\"\"\n",
    "    Get timestamps for each unique source IP.\n",
    "\n",
    "    Parameters\n",
    "    ----------\n",
    "    time : np.ndarray\n",
    "        Time of each message in a window\n",
    "        Shape: (window_size,)\n",
    "    ids : np.ndarray\n",
    "        Source IP of each message in a window\n",
    "        Shape: (window_size,)\n",
    "\n",
    "    Returns\n",
    "    -------\n",
    "    List[List[float]]\n",
    "        Timestamps for each unique source IP.\n",
    "    \"\"\"\n",
    "    timestemps = [[] for _ in range(mdhp_dim)]\n",
    "    for t, i in zip(time, ids):\n",
    "        timestemps[ip_to_index[i]].append(t)\n",
    "    return timestemps\n",
    "\n",
    "\n",
    "for raw_data_path, target_data_dir in zip(all_raw_data_paths, all_target_data_dirs):\n",
    "    print(f\"Read data from {raw_data_path}\")\n",
    "    raw_data = np.load(raw_data_path)  # Shape: (n_samples, window_size, n_features + 1)\n",
    "    print(f\"Data shape: {raw_data.shape}\")\n",
    "\n",
    "    alphas, betas, thetas = [], [], []\n",
    "\n",
    "    # Process each message window\n",
    "    for idx in range(raw_data.shape[0]):\n",
    "        msg_window = raw_data[idx]  # Shape: (window_size, n_features + 1)\n",
    "        time = msg_window[:, 0] * 10\n",
    "        ids = msg_window[:, -1]  # Get the source IPs\n",
    "        mapped_timestamps = get_timestamps(time, ids)\n",
    "        alpha, beta, theta = solve_mdhp_params(\n",
    "            timestamps=mapped_timestamps,\n",
    "            device=\"cuda:0\",\n",
    "            max_epochs=500,\n",
    "            check_interval=25,\n",
    "        )\n",
    "        alphas.append(alpha)  # Shape: (mdhp_dim, mdhp_dim)\n",
    "        betas.append(beta)  # Shape: (mdhp_dim, mdhp_dim)\n",
    "        thetas.append(theta)  # Shape: (mdhp_dim,)\n",
    "\n",
    "    alphas = np.array(alphas)  # Shape: (n_samples, mdhp_dim, mdhp_dim)\n",
    "    betas = np.array(betas)  # Shape: (n_samples, mdhp_dim, mdhp_dim)\n",
    "    thetas = np.array(thetas)  # Shape: (n_samples, mdhp_dim, mdhp_dim)\n",
    "\n",
    "    # Drop the last column of raw_data\n",
    "    np.save(\n",
    "        osp.join(target_data_dir, \"data.npy\"), raw_data[:, :, 0:-1]\n",
    "    )  # (30748, 128, 25)\n",
    "    # Save the parameters of MDHP\n",
    "    np.save(osp.join(target_data_dir, \"alpha.npy\"), alphas)  # (30748, 16, 16)\n",
    "    np.save(osp.join(target_data_dir, \"beta.npy\"), betas)  # (30748, 16, 16)\n",
    "    np.save(osp.join(target_data_dir, \"theta.npy\"), thetas)  # (30748, 16)\n",
    "\n",
    "    print(f\"Finished processing data: {raw_data_path}\")"
   ]
  }
 ],
 "metadata": {
  "kernelspec": {
   "display_name": "base",
   "language": "python",
   "name": "python3"
  },
  "language_info": {
   "codemirror_mode": {
    "name": "ipython",
    "version": 3
   },
   "file_extension": ".py",
   "mimetype": "text/x-python",
   "name": "python",
   "nbconvert_exporter": "python",
   "pygments_lexer": "ipython3",
   "version": "3.12.4"
  }
 },
 "nbformat": 4,
 "nbformat_minor": 2
}
